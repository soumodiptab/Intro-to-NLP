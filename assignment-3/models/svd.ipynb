{
 "cells": [
  {
   "cell_type": "code",
   "execution_count": 2,
   "metadata": {},
   "outputs": [],
   "source": [
    "import numpy as np\n",
    "from scipy.sparse import csr_matrix"
   ]
  },
  {
   "cell_type": "code",
   "execution_count": 3,
   "metadata": {},
   "outputs": [],
   "source": [
    "import numpy as np\n",
    "import torch\n",
    "from collections import Counter\n",
    "from torch.utils.data import Dataset, DataLoader\n",
    "import random\n",
    "class DataPipeline(Dataset):\n",
    "    def __init__(self, filename,window_size = 7,min_freq=5,vocab=None,neg_words=5):\n",
    "        self.data = self.read_data(filename)\n",
    "        self.neg_words = neg_words\n",
    "        self.window_size = window_size\n",
    "        if vocab is None:\n",
    "            self.vocab, self.ind2vocab,self.word_count = self.build_vocab(self.data,min_freq)\n",
    "        else:\n",
    "            self.vocab = vocab\n",
    "            self.ind2vocab = {v: k for k, v in vocab.items()}\n",
    "            self.word_count = self.get_word_count(vocab,self.data,min_freq)\n",
    "        self.neg_sampling_table = self.__create_neg_sampling_table()\n",
    "        self.sub_sampling_table = self.__create_sub_sampling_table()\n",
    "\n",
    "    def get_vocab(self):\n",
    "        return self.vocab\n",
    "    \n",
    "    @staticmethod\n",
    "    def read_data(filename):\n",
    "        data = []\n",
    "        with open(filename, 'r') as f:\n",
    "            for line in f.readlines():\n",
    "                e = line.strip()\n",
    "                data.append(e.split())\n",
    "        return data\n",
    "    \n",
    "    def get_word_count(self,vocab,data):\n",
    "        word_count = {0: 0}\n",
    "        for line in data:\n",
    "            for word in line:\n",
    "                if word in vocab:\n",
    "                    word_count[vocab[word]] += 1\n",
    "                else:\n",
    "                    word_count[0] += 1\n",
    "        return word_count\n",
    "    \n",
    "    def most_common(self,n):\n",
    "        counter = Counter(self.word_count)\n",
    "        common = counter.most_common(n)\n",
    "        ind_freq = dict(common)\n",
    "        # convert to word frequency\n",
    "        word_freq = {}\n",
    "        for ind in ind_freq:\n",
    "            word_freq[self.ind2vocab[ind]] = ind_freq[ind]\n",
    "        return word_freq\n",
    "    \n",
    "    @staticmethod\n",
    "    def build_vocab(data,min_freq=10):\n",
    "        word_set = {}\n",
    "        for line in data:\n",
    "            for word in line:\n",
    "                if word not in word_set:\n",
    "                    word_set[word]=1\n",
    "                else:\n",
    "                    word_set[word]+=1\n",
    "        # sort the vocab\n",
    "        word_list = sorted(list(word_set))\n",
    "        word_count = {0: 1}\n",
    "        vocab_dict = {\"<unk>\": 0}\n",
    "        i=1\n",
    "        for word in word_list:\n",
    "            if word_set[word] >= min_freq:\n",
    "                vocab_dict[word] = i\n",
    "                word_count[i] = word_set[word]\n",
    "                i+=1\n",
    "            else:\n",
    "                word_count[0] += word_set[word]\n",
    "        ind2word = {v: k for k, v in vocab_dict.items()}\n",
    "        return vocab_dict, ind2word, word_count\n",
    "\n",
    "    def total_count(self):\n",
    "        return sum(self.word_count.values())\n",
    "\n",
    "    \n",
    "    def __create_sub_sampling_table(self, threshold=1e-5):\n",
    "        word_freq = np.array(list(self.word_count.values()))\n",
    "        word_freq = word_freq / np.sum(word_freq)\n",
    "        sub_sampling_table = ((np.sqrt(word_freq / threshold) + 1) * (threshold / word_freq))\n",
    "        return sub_sampling_table\n",
    "    \n",
    "    def is_sample_selected(self, idx):\n",
    "        # return True if the word is selected\n",
    "        return random.random() < self.sub_sampling_table[idx]\n",
    "    \n",
    "    def __create_neg_sampling_table(self, power=0.75, table_size =1e8):\n",
    "        vocab_size = len(self.vocab)\n",
    "        word_freq = np.array(list(self.word_count.values())) ** power\n",
    "        word_freq = word_freq / np.sum(word_freq)\n",
    "        count = np.round(word_freq * table_size)\n",
    "        neg_sampling_table = []\n",
    "        for i in range(vocab_size):\n",
    "            neg_sampling_table += [i] * int(count[i])\n",
    "        neg_sampling_table = np.array(neg_sampling_table)\n",
    "        np.random.shuffle(neg_sampling_table)\n",
    "        return neg_sampling_table.tolist()\n",
    "    \n",
    "    def get_negative_samples(self, target, k):\n",
    "        delta = random.sample(self.neg_sampling_table, k)\n",
    "        while target in delta:\n",
    "            delta = random.sample(self.neg_sampling_table, k)\n",
    "        return delta   \n",
    "\n",
    "    def __len__(self):\n",
    "        return len(self.data)\n",
    "\n",
    "    def __getitem__(self, idx):\n",
    "        words = self.data[idx]\n",
    "        data = []\n",
    "        start = self.window_size // 2\n",
    "        for i in range(start, len(words) - start):\n",
    "            if words[i] not in self.vocab or not self.is_sample_selected(self.vocab[words[i]]):\n",
    "                continue\n",
    "            target = self.vocab[words[i]]\n",
    "            context = words[i - start: i] + words[i + 1: i + start + 1]\n",
    "            #convert words to indices and unknown words to 0\n",
    "            context = [ self.vocab[word] if word in self.vocab else self.vocab[\"<unk>\"] for word in context ]\n",
    "            neg_samples = self.get_negative_samples(target, self.neg_words)\n",
    "            data.append((target, context, neg_samples))\n",
    "        return data\n",
    "    \n",
    "    def __collate_fn(self,batches):\n",
    "        target = []\n",
    "        context = []\n",
    "        neg_samples = []\n",
    "        for sentence in batches:\n",
    "            for t,c,n in sentence:\n",
    "                target.append(t)\n",
    "                context.append(c)\n",
    "                neg_samples.append(n)\n",
    "        return torch.LongTensor(target),torch.LongTensor(context),torch.LongTensor(neg_samples)\n",
    "\n",
    "    def get_batches(self, batch_size):\n",
    "        return DataLoader(self, batch_size=batch_size, shuffle=False,collate_fn=self.__collate_fn ,drop_last=True)\n"
   ]
  },
  {
   "cell_type": "code",
   "execution_count": 4,
   "metadata": {},
   "outputs": [],
   "source": [
    "data = DataPipeline.read_data('../data/processed_data/corpus_cleaned.txt')"
   ]
  },
  {
   "cell_type": "code",
   "execution_count": 5,
   "metadata": {},
   "outputs": [],
   "source": [
    "vocab, ind2vocab, word_count = DataPipeline.build_vocab(data)"
   ]
  },
  {
   "cell_type": "code",
   "execution_count": 6,
   "metadata": {},
   "outputs": [
    {
     "data": {
      "text/plain": [
       "23522"
      ]
     },
     "execution_count": 6,
     "metadata": {},
     "output_type": "execute_result"
    }
   ],
   "source": [
    "len(vocab)"
   ]
  },
  {
   "cell_type": "code",
   "execution_count": 23,
   "metadata": {},
   "outputs": [],
   "source": [
    "from scipy.sparse import csr_matrix\n",
    "import numpy as np\n",
    "from sklearn.decomposition import TruncatedSVD"
   ]
  },
  {
   "cell_type": "code",
   "execution_count": 32,
   "metadata": {},
   "outputs": [],
   "source": [
    "class SVD_W2V:\n",
    "    def __init__(self, vocab, window,embedding_size):\n",
    "        self.dim = len(vocab)\n",
    "        self.vocab = vocab\n",
    "        self.window_size = window\n",
    "        self.embedding_size = embedding_size\n",
    "        self.cooccurrence_matrix = np.zeros((self.dim, self.dim))\n",
    "\n",
    "    def train(self,data):\n",
    "        self.__build_cooccurrence_matrix(data)\n",
    "        svd = TruncatedSVD(n_components=self.embedding_size, random_state=42)\n",
    "        self.embeddings = svd.fit_transform(self.cooccurrence_matrix)\n",
    "\n",
    "\n",
    "\n",
    "    def __build_cooccurrence_matrix(self, data):\n",
    "        self.cooccurrence_matrix = np.zeros((self.dim, self.dim))\n",
    "        for tokens in data:\n",
    "            for pos,token in enumerate(tokens):\n",
    "                if token not in self.vocab:\n",
    "                    continue\n",
    "                start = max(0, pos - self.window_size)\n",
    "                end = min(len(tokens), pos + self.window_size)\n",
    "                for context_pos in range(start, end):\n",
    "                    if context_pos != pos:\n",
    "                        context_token = tokens[context_pos]\n",
    "                        if context_token in self.vocab:\n",
    "                            self.cooccurrence_matrix[self.vocab[token], self.vocab[context_token]] += 1\n",
    "                        else:\n",
    "                            self.cooccurrence_matrix[self.vocab[token], self.vocab[\"<unk>\"]] += 1\n",
    "        self.cooccurrence_matrix = csr_matrix(self.cooccurrence_matrix)\n",
    "    \n",
    "    def save_embeddings(self, path):\n",
    "        with open(path, 'w') as f:\n",
    "            f.write('{} {}\\n'.format(self.dim, self.embedding_size))\n",
    "            for word, i in self.vocab.items():\n",
    "                e = ' '.join(map(str, self.embeddings[i]))\n",
    "                f.write('{} {}\\n'.format(word, e))"
   ]
  },
  {
   "cell_type": "code",
   "execution_count": 33,
   "metadata": {},
   "outputs": [],
   "source": [
    "model = SVD_W2V(vocab, 3,300)"
   ]
  },
  {
   "cell_type": "code",
   "execution_count": 34,
   "metadata": {},
   "outputs": [
    {
     "data": {
      "text/plain": [
       "(23522, 23522)"
      ]
     },
     "execution_count": 34,
     "metadata": {},
     "output_type": "execute_result"
    }
   ],
   "source": [
    "model.cooccurrence_matrix.shape"
   ]
  },
  {
   "cell_type": "code",
   "execution_count": 35,
   "metadata": {},
   "outputs": [],
   "source": [
    "model.train(data)"
   ]
  },
  {
   "cell_type": "code",
   "execution_count": null,
   "metadata": {},
   "outputs": [],
   "source": []
  },
  {
   "cell_type": "code",
   "execution_count": 20,
   "metadata": {},
   "outputs": [
    {
     "data": {
      "text/plain": [
       "11165.0"
      ]
     },
     "execution_count": 20,
     "metadata": {},
     "output_type": "execute_result"
    }
   ],
   "source": [
    "model.cooccurrence_matrix[vocab['a'],vocab['movie']]"
   ]
  },
  {
   "cell_type": "code",
   "execution_count": 22,
   "metadata": {},
   "outputs": [
    {
     "data": {
      "text/plain": [
       "645.0"
      ]
     },
     "execution_count": 22,
     "metadata": {},
     "output_type": "execute_result"
    }
   ],
   "source": [
    "model.cooccurrence_matrix[vocab['shawshank'],vocab['redemption']]"
   ]
  },
  {
   "cell_type": "code",
   "execution_count": 36,
   "metadata": {},
   "outputs": [
    {
     "data": {
      "text/plain": [
       "(23522, 300)"
      ]
     },
     "execution_count": 36,
     "metadata": {},
     "output_type": "execute_result"
    }
   ],
   "source": [
    "model.embeddings.shape"
   ]
  },
  {
   "cell_type": "code",
   "execution_count": 26,
   "metadata": {},
   "outputs": [],
   "source": [
    "# model.embeddings = svd.fit_transform(model.cooccurrence_matrix)"
   ]
  },
  {
   "cell_type": "code",
   "execution_count": 31,
   "metadata": {},
   "outputs": [
    {
     "data": {
      "text/plain": [
       "array([ 4.75978967e+02, -1.89228277e+02,  1.41338223e+02, -8.74489603e+01,\n",
       "        8.39868997e+00, -2.98265563e+01, -4.03671266e+01, -3.64086751e+00,\n",
       "       -1.29764494e+01, -2.84776754e+01,  8.55508636e+01,  4.32625415e+01,\n",
       "       -3.30878912e+01, -1.70645578e+01,  6.97754943e+00,  1.89698998e+01,\n",
       "        4.58149934e+00, -1.98645098e+01, -2.46105796e+01,  6.87050059e+01,\n",
       "        1.23511085e+01,  4.19465163e+01, -4.56533724e+01,  2.34959318e+01,\n",
       "       -9.00818653e+00, -4.67852696e+00,  4.17646996e+00,  2.52830043e+00,\n",
       "       -3.40492765e+01, -1.23039374e+00,  1.03964845e+01, -2.40508047e+01,\n",
       "        2.39372055e+01,  2.47528864e+01, -2.62522459e+00,  9.48995278e-01,\n",
       "        1.66798898e+01, -1.24240796e+00,  5.41840972e+00, -5.12809831e+00,\n",
       "        7.39553929e+00,  5.33584436e+00,  1.10615175e+01,  8.67823832e+00,\n",
       "       -3.05383533e+00,  8.10027405e-01,  7.47609374e+00,  2.60201064e+01,\n",
       "        1.30265180e+01,  3.53333163e+00, -8.18305275e-01, -1.28785080e+01,\n",
       "        1.80533394e+01, -3.50450266e+00, -5.10754799e+00, -2.41247788e+00,\n",
       "       -2.84298179e-01,  2.44645382e-01, -8.96252267e+00,  7.34452170e+00,\n",
       "        4.60335616e-01,  5.80902389e+00, -8.03598000e+00, -3.22373361e+00,\n",
       "        2.85874285e+00,  3.64104531e+00, -1.11595344e+00,  1.47090664e+01,\n",
       "       -5.47794032e+00,  3.84100538e+00, -3.02249402e-01, -1.12390102e+01,\n",
       "        4.66809107e-01, -4.98806808e+00, -6.43933456e-01, -1.00580311e-01,\n",
       "       -4.10621129e+00,  3.35246706e+00,  1.98513526e+00,  4.95085850e-01,\n",
       "       -4.91641423e+00,  7.81048776e+00,  3.08937033e+00,  6.09642487e+00,\n",
       "        4.91422440e+00, -7.28723781e-01, -6.81914912e+00, -4.67559797e+00,\n",
       "       -5.72466823e-01,  1.31903615e+01,  8.39632683e+00,  3.47439493e+00,\n",
       "       -1.01496314e+01,  2.82644262e+00,  7.25302491e+00,  1.61189359e+00,\n",
       "        3.37462542e+00, -7.09835819e+00,  7.79985032e+00, -9.19983534e-01])"
      ]
     },
     "execution_count": 31,
     "metadata": {},
     "output_type": "execute_result"
    }
   ],
   "source": [
    "model.embeddings[vocab['shawshank']]"
   ]
  },
  {
   "cell_type": "code",
   "execution_count": 40,
   "metadata": {},
   "outputs": [],
   "source": [
    "import numpy as np\n",
    "from tqdm import tqdm\n",
    "from sklearn.manifold import TSNE\n",
    "import matplotlib.pyplot as plt\n",
    "from scipy.spatial.distance import cosine"
   ]
  },
  {
   "cell_type": "code",
   "execution_count": 47,
   "metadata": {},
   "outputs": [],
   "source": [
    "def plot_top10_words(word, model,ind2vocab):\n",
    "    word = word.lower()\n",
    "    vocab\n",
    "\n",
    "    def tsne_plot(results):\n",
    "        words = []\n",
    "        embeds = []\n",
    "\n",
    "        for res in results:\n",
    "            embeds.append(res[1])\n",
    "            words.append(res[0])\n",
    "        \n",
    "        tsne_model = TSNE(init='pca')\n",
    "        res_embeds = tsne_model.fit_transform(embeds)\n",
    "\n",
    "        x_axis_val = []\n",
    "        y_axis_val = []\n",
    "        for val in res_embeds:\n",
    "            x_axis_val.append(val[0])\n",
    "            y_axis_val.append(val[1])\n",
    "            \n",
    "        plt.figure(figsize=(10, 10)) \n",
    "        for i in range(len(x_axis_val)):\n",
    "            plt.scatter(x_axis_val[i],y_axis_val[i])\n",
    "            plt.annotate(words[i],\n",
    "                        xy=(x_axis_val[i],y_axis_val[i]),\n",
    "                        xytext=(5, 2),\n",
    "                        textcoords='offset points',\n",
    "                        ha='right',\n",
    "                        va='bottom')\n",
    "        plt.savefig(\"../figures/svd/\"+word+\".png\")\n",
    "        #plt.show()\n",
    "    \n",
    "    word_index = model.vocab[word]\n",
    "    word_embed = model.embeddings[word_index]\n",
    "    res = {}\n",
    "    for i, embed in tqdm(enumerate(model.embeddings)):\n",
    "        if i!=word_index:\n",
    "            res[i] = [1 - cosine(model.embeddings[i], word_embed), model.embeddings[i]]\n",
    "\n",
    "\n",
    "    results = []\n",
    "    for t in sorted(res.items(), key=lambda item: item[1][0], reverse=True)[0:10]:\n",
    "        results.append([ind2vocab[t[0]], t[1][1]])\n",
    "\n",
    "    print('Word:-', word)\n",
    "    print('Words:-', end='\\t')\n",
    "    for res in results:\n",
    "        print(res[0], end=', ')\n",
    "    print()\n",
    "\n",
    "    tsne_plot(results)"
   ]
  },
  {
   "cell_type": "code",
   "execution_count": 52,
   "metadata": {},
   "outputs": [
    {
     "name": "stderr",
     "output_type": "stream",
     "text": [
      "0it [00:00, ?it/s]/home/soumodiptab/.local/lib/python3.8/site-packages/scipy/spatial/distance.py:699: RuntimeWarning: invalid value encountered in double_scalars\n",
      "  dist = 1.0 - uv / np.sqrt(uu * vv)\n",
      "23522it [00:00, 27762.22it/s]\n",
      "/home/soumodiptab/.local/lib/python3.8/site-packages/sklearn/manifold/_t_sne.py:790: FutureWarning: The default learning rate in TSNE will change from 200.0 to 'auto' in 1.2.\n",
      "  warnings.warn(\n",
      "/home/soumodiptab/.local/lib/python3.8/site-packages/sklearn/manifold/_t_sne.py:982: FutureWarning: The PCA initialization in TSNE will change to have the standard deviation of PC1 equal to 1e-4 in 1.2. This will ensure better convergence.\n",
      "  warnings.warn(\n"
     ]
    },
    {
     "name": "stdout",
     "output_type": "stream",
     "text": [
      "Word:- movie\n",
      "Words:-\t<unk>, moive, film, video, item, product, review, album, program, boxset, \n"
     ]
    },
    {
     "data": {
      "image/png": "[encoded data removed]",
      "text/plain": [
       "<Figure size 720x720 with 1 Axes>"
      ]
     },
     "metadata": {
      "needs_background": "light"
     },
     "output_type": "display_data"
    }
   ],
   "source": [
    "plot_top10_words('movie', model,ind2vocab)"
   ]
  },
  {
   "cell_type": "code",
   "execution_count": 50,
   "metadata": {},
   "outputs": [
    {
     "name": "stderr",
     "output_type": "stream",
     "text": [
      "0it [00:00, ?it/s]/home/soumodiptab/.local/lib/python3.8/site-packages/scipy/spatial/distance.py:699: RuntimeWarning: invalid value encountered in double_scalars\n",
      "  dist = 1.0 - uv / np.sqrt(uu * vv)\n",
      "23522it [00:01, 20278.71it/s]\n",
      "/home/soumodiptab/.local/lib/python3.8/site-packages/sklearn/manifold/_t_sne.py:790: FutureWarning: The default learning rate in TSNE will change from 200.0 to 'auto' in 1.2.\n",
      "  warnings.warn(\n",
      "/home/soumodiptab/.local/lib/python3.8/site-packages/sklearn/manifold/_t_sne.py:982: FutureWarning: The PCA initialization in TSNE will change to have the standard deviation of PC1 equal to 1e-4 in 1.2. This will ensure better convergence.\n",
      "  warnings.warn(\n"
     ]
    },
    {
     "name": "stdout",
     "output_type": "stream",
     "text": [
      "Word:- redemption\n",
      "Words:-\t<unk>, plot, dialogue, pacing, dialog, music, soundtrack, ending, beast, casting, \n"
     ]
    },
    {
     "data": {
      "image/png": "[encoded data removed]",
      "text/plain": [
       "<Figure size 720x720 with 1 Axes>"
      ]
     },
     "metadata": {
      "needs_background": "light"
     },
     "output_type": "display_data"
    }
   ],
   "source": [
    "plot_top10_words('redemption', model,ind2vocab)"
   ]
  },
  {
   "cell_type": "code",
   "execution_count": 51,
   "metadata": {},
   "outputs": [
    {
     "name": "stderr",
     "output_type": "stream",
     "text": [
      "0it [00:00, ?it/s]/home/soumodiptab/.local/lib/python3.8/site-packages/scipy/spatial/distance.py:699: RuntimeWarning: invalid value encountered in double_scalars\n",
      "  dist = 1.0 - uv / np.sqrt(uu * vv)\n",
      "23522it [00:00, 27077.21it/s]\n",
      "/home/soumodiptab/.local/lib/python3.8/site-packages/sklearn/manifold/_t_sne.py:790: FutureWarning: The default learning rate in TSNE will change from 200.0 to 'auto' in 1.2.\n",
      "  warnings.warn(\n",
      "/home/soumodiptab/.local/lib/python3.8/site-packages/sklearn/manifold/_t_sne.py:982: FutureWarning: The PCA initialization in TSNE will change to have the standard deviation of PC1 equal to 1e-4 in 1.2. This will ensure better convergence.\n",
      "  warnings.warn(\n"
     ]
    },
    {
     "name": "stdout",
     "output_type": "stream",
     "text": [
      "Word:- bad\n",
      "Words:-\t<unk>, horrible, terrible, cliche, obviously, weird, crazy, lame, fake, merely, \n"
     ]
    },
    {
     "data": {
      "image/png": "[encoded data removed]",
      "text/plain": [
       "<Figure size 720x720 with 1 Axes>"
      ]
     },
     "metadata": {
      "needs_background": "light"
     },
     "output_type": "display_data"
    }
   ],
   "source": [
    "plot_top10_words('bad', model,ind2vocab)"
   ]
  }
 ],
 "metadata": {
  "kernelspec": {
   "display_name": "Python 3",
   "language": "python",
   "name": "python3"
  },
  "language_info": {
   "codemirror_mode": {
    "name": "ipython",
    "version": 3
   },
   "file_extension": ".py",
   "mimetype": "text/x-python",
   "name": "python",
   "nbconvert_exporter": "python",
   "pygments_lexer": "ipython3",
   "version": "3.8.10"
  },
  "orig_nbformat": 4
 },
 "nbformat": 4,
 "nbformat_minor": 2
}
