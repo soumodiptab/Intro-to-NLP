{
 "cells": [
  {
   "cell_type": "code",
   "execution_count": 1,
   "metadata": {},
   "outputs": [
    {
     "ename": "ModuleNotFoundError",
     "evalue": "No module named 'data_cleaner'",
     "output_type": "error",
     "traceback": [
      "\u001b[0;31m---------------------------------------------------------------------------\u001b[0m",
      "\u001b[0;31mModuleNotFoundError\u001b[0m                       Traceback (most recent call last)",
      "\u001b[1;32m/home/soumodiptab/workspaces/Intro-to-NLP/main.ipynb Cell 1\u001b[0m in \u001b[0;36m<module>\u001b[0;34m\u001b[0m\n\u001b[1;32m      <a href='vscode-notebook-cell://wsl%2Bubuntu/home/soumodiptab/workspaces/Intro-to-NLP/main.ipynb#W0sdnNjb2RlLXJlbW90ZQ%3D%3D?line=0'>1</a>\u001b[0m \u001b[39mimport\u001b[39;00m \u001b[39msys\u001b[39;00m\n\u001b[1;32m      <a href='vscode-notebook-cell://wsl%2Bubuntu/home/soumodiptab/workspaces/Intro-to-NLP/main.ipynb#W0sdnNjb2RlLXJlbW90ZQ%3D%3D?line=1'>2</a>\u001b[0m \u001b[39mimport\u001b[39;00m \u001b[39mjson\u001b[39;00m\n\u001b[0;32m----> <a href='vscode-notebook-cell://wsl%2Bubuntu/home/soumodiptab/workspaces/Intro-to-NLP/main.ipynb#W0sdnNjb2RlLXJlbW90ZQ%3D%3D?line=2'>3</a>\u001b[0m \u001b[39mfrom\u001b[39;00m \u001b[39mdata_cleaner\u001b[39;00m \u001b[39mimport\u001b[39;00m clean_corpus\n\u001b[1;32m      <a href='vscode-notebook-cell://wsl%2Bubuntu/home/soumodiptab/workspaces/Intro-to-NLP/main.ipynb#W0sdnNjb2RlLXJlbW90ZQ%3D%3D?line=3'>4</a>\u001b[0m \u001b[39mfrom\u001b[39;00m \u001b[39mdata_pipeline\u001b[39;00m \u001b[39mimport\u001b[39;00m DataPipeline\n\u001b[1;32m      <a href='vscode-notebook-cell://wsl%2Bubuntu/home/soumodiptab/workspaces/Intro-to-NLP/main.ipynb#W0sdnNjb2RlLXJlbW90ZQ%3D%3D?line=4'>5</a>\u001b[0m \u001b[39mfrom\u001b[39;00m \u001b[39msvd\u001b[39;00m \u001b[39mimport\u001b[39;00m SVD_W2V\n",
      "\u001b[0;31mModuleNotFoundError\u001b[0m: No module named 'data_cleaner'"
     ]
    }
   ],
   "source": []
  },
  {
   "cell_type": "code",
   "execution_count": 1,
   "metadata": {},
   "outputs": [],
   "source": [
    "import os\n",
    "os.chdir('assignment-3')"
   ]
  },
  {
   "cell_type": "code",
   "execution_count": 2,
   "metadata": {},
   "outputs": [],
   "source": [
    "import sys\n",
    "import json\n",
    "\n",
    "from data_cleaner import clean_corpus\n",
    "from data_pipeline import DataPipeline\n",
    "from svd import SVD_W2V\n",
    "# arguments : clean, train, plot\n",
    "config =json.loads(open('config.json','r').read())\n",
    "path_config = config['path']\n",
    "models_config = config['models']\n",
    "cleaner_config = config['cleaning']\n",
    "\n",
    "\n",
    "DATA_FOLDER = path_config['data_folder']\n",
    "EMBEDDINGS_FOLDER = path_config['embeddings']\n",
    "MODEL_FOLDER = path_config['models']\n",
    "FIGURES_FOLDER = path_config['figures']"
   ]
  },
  {
   "cell_type": "code",
   "execution_count": 3,
   "metadata": {},
   "outputs": [
    {
     "name": "stdout",
     "output_type": "stream",
     "text": [
      "Loading data from data/corpus_cleaned.txt ...\n"
     ]
    }
   ],
   "source": [
    "corpus_file = os.path.join(DATA_FOLDER,path_config['clean_corpus_file'])\n",
    "print('Loading data from {} ...'.format(corpus_file))\n",
    "data = DataPipeline.read_data(corpus_file)\n",
    "vocab, _, _ = DataPipeline.build_vocab(data,min_freq=models_config['svd']['min_freq'])\n",
    "\n"
   ]
  },
  {
   "cell_type": "code",
   "execution_count": 4,
   "metadata": {},
   "outputs": [
    {
     "name": "stdout",
     "output_type": "stream",
     "text": [
      "Training SVD model with embedding size : 300 Window : 7\n"
     ]
    }
   ],
   "source": [
    "print('Training SVD model with embedding size : {} Window : {}'.format(\n",
    "    models_config['svd']['embedding_size'],\n",
    "    models_config['svd']['window_size']))\n",
    "model = SVD_W2V(vocab,models_config['svd']['window_size'],models_config['svd']['embedding_size'])"
   ]
  },
  {
   "cell_type": "code",
   "execution_count": null,
   "metadata": {},
   "outputs": [],
   "source": [
    "model.train(data)"
   ]
  },
  {
   "cell_type": "code",
   "execution_count": null,
   "metadata": {},
   "outputs": [],
   "source": [
    "embeddings_file = os.path.join(EMBEDDINGS_FOLDER,\"svd\",'svd_embeddings_{}.txt'.format(models_config['svd']['embedding_size']))"
   ]
  },
  {
   "cell_type": "code",
   "execution_count": null,
   "metadata": {},
   "outputs": [],
   "source": [
    "model.save_embeddings(embeddings_file)\n",
    "print('Embeddings saved at {}'.format(embeddings_file))"
   ]
  }
 ],
 "metadata": {
  "kernelspec": {
   "display_name": "Python 3",
   "language": "python",
   "name": "python3"
  },
  "language_info": {
   "codemirror_mode": {
    "name": "ipython",
    "version": 3
   },
   "file_extension": ".py",
   "mimetype": "text/x-python",
   "name": "python",
   "nbconvert_exporter": "python",
   "pygments_lexer": "ipython3",
   "version": "3.8.10"
  },
  "orig_nbformat": 4
 },
 "nbformat": 4,
 "nbformat_minor": 2
}
