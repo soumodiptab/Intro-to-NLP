{
 "cells": [
  {
   "cell_type": "code",
   "execution_count": 7,
   "metadata": {},
   "outputs": [],
   "source": [
    "import numpy as np\n",
    "def load_embeddings(filepath):\n",
    "    with open(filepath, 'r') as f:\n",
    "        lines,embedding_size = f.readline().strip().split()\n",
    "        lines = int(lines)\n",
    "        embeddings = {}\n",
    "        for _ in range(lines):\n",
    "            line = f.readline().strip()\n",
    "            line = line.split()\n",
    "            word = line[0]\n",
    "            embedding = np.array([float(val) for val in line[1:]])\n",
    "            embeddings[word] = embedding\n",
    "    return embeddings"
   ]
  },
  {
   "cell_type": "code",
   "execution_count": 8,
   "metadata": {},
   "outputs": [],
   "source": [
    "import numpy as np\n",
    "import gensim\n",
    "from sklearn.manifold import TSNE\n",
    "import matplotlib.pyplot as plt\n",
    "from tqdm import tqdm"
   ]
  },
  {
   "cell_type": "code",
   "execution_count": 12,
   "metadata": {},
   "outputs": [
    {
     "ename": "FileNotFoundError",
     "evalue": "[Errno 2] No such file or directory: ''",
     "output_type": "error",
     "traceback": [
      "\u001b[0;31m---------------------------------------------------------------------------\u001b[0m",
      "\u001b[0;31mFileNotFoundError\u001b[0m                         Traceback (most recent call last)",
      "\u001b[1;32m/home/soumodiptab/workspaces/Intro-to-NLP/assignment-3/analysis/embedding_checker.ipynb Cell 3\u001b[0m in \u001b[0;36m<module>\u001b[0;34m\u001b[0m\n\u001b[0;32m----> <a href='vscode-notebook-cell://wsl%2Bubuntu/home/soumodiptab/workspaces/Intro-to-NLP/assignment-3/analysis/embedding_checker.ipynb#W2sdnNjb2RlLXJlbW90ZQ%3D%3D?line=0'>1</a>\u001b[0m embeddings \u001b[39m=\u001b[39mgensim\u001b[39m.\u001b[39;49mmodels\u001b[39m.\u001b[39;49mKeyedVectors\u001b[39m.\u001b[39;49mload_word2vec_format(\u001b[39m'\u001b[39;49m\u001b[39m'\u001b[39;49m, binary\u001b[39m=\u001b[39;49m\u001b[39mTrue\u001b[39;49;00m)\n",
      "File \u001b[0;32m~/.local/lib/python3.8/site-packages/gensim/models/keyedvectors.py:1719\u001b[0m, in \u001b[0;36mKeyedVectors.load_word2vec_format\u001b[0;34m(cls, fname, fvocab, binary, encoding, unicode_errors, limit, datatype, no_header)\u001b[0m\n\u001b[1;32m   1672\u001b[0m \u001b[39m@classmethod\u001b[39m\n\u001b[1;32m   1673\u001b[0m \u001b[39mdef\u001b[39;00m \u001b[39mload_word2vec_format\u001b[39m(\n\u001b[1;32m   1674\u001b[0m         \u001b[39mcls\u001b[39m, fname, fvocab\u001b[39m=\u001b[39m\u001b[39mNone\u001b[39;00m, binary\u001b[39m=\u001b[39m\u001b[39mFalse\u001b[39;00m, encoding\u001b[39m=\u001b[39m\u001b[39m'\u001b[39m\u001b[39mutf8\u001b[39m\u001b[39m'\u001b[39m, unicode_errors\u001b[39m=\u001b[39m\u001b[39m'\u001b[39m\u001b[39mstrict\u001b[39m\u001b[39m'\u001b[39m,\n\u001b[1;32m   1675\u001b[0m         limit\u001b[39m=\u001b[39m\u001b[39mNone\u001b[39;00m, datatype\u001b[39m=\u001b[39mREAL, no_header\u001b[39m=\u001b[39m\u001b[39mFalse\u001b[39;00m,\n\u001b[1;32m   1676\u001b[0m     ):\n\u001b[1;32m   1677\u001b[0m     \u001b[39m\"\"\"Load KeyedVectors from a file produced by the original C word2vec-tool format.\u001b[39;00m\n\u001b[1;32m   1678\u001b[0m \n\u001b[1;32m   1679\u001b[0m \u001b[39m    Warnings\u001b[39;00m\n\u001b[0;32m   (...)\u001b[0m\n\u001b[1;32m   1717\u001b[0m \n\u001b[1;32m   1718\u001b[0m \u001b[39m    \"\"\"\u001b[39;00m\n\u001b[0;32m-> 1719\u001b[0m     \u001b[39mreturn\u001b[39;00m _load_word2vec_format(\n\u001b[1;32m   1720\u001b[0m         \u001b[39mcls\u001b[39;49m, fname, fvocab\u001b[39m=\u001b[39;49mfvocab, binary\u001b[39m=\u001b[39;49mbinary, encoding\u001b[39m=\u001b[39;49mencoding, unicode_errors\u001b[39m=\u001b[39;49municode_errors,\n\u001b[1;32m   1721\u001b[0m         limit\u001b[39m=\u001b[39;49mlimit, datatype\u001b[39m=\u001b[39;49mdatatype, no_header\u001b[39m=\u001b[39;49mno_header,\n\u001b[1;32m   1722\u001b[0m     )\n",
      "File \u001b[0;32m~/.local/lib/python3.8/site-packages/gensim/models/keyedvectors.py:2048\u001b[0m, in \u001b[0;36m_load_word2vec_format\u001b[0;34m(cls, fname, fvocab, binary, encoding, unicode_errors, limit, datatype, no_header, binary_chunk_size)\u001b[0m\n\u001b[1;32m   2045\u001b[0m             counts[word] \u001b[39m=\u001b[39m \u001b[39mint\u001b[39m(count)\n\u001b[1;32m   2047\u001b[0m logger\u001b[39m.\u001b[39minfo(\u001b[39m\"\u001b[39m\u001b[39mloading projection weights from \u001b[39m\u001b[39m%s\u001b[39;00m\u001b[39m\"\u001b[39m, fname)\n\u001b[0;32m-> 2048\u001b[0m \u001b[39mwith\u001b[39;00m utils\u001b[39m.\u001b[39;49mopen(fname, \u001b[39m'\u001b[39;49m\u001b[39mrb\u001b[39;49m\u001b[39m'\u001b[39;49m) \u001b[39mas\u001b[39;00m fin:\n\u001b[1;32m   2049\u001b[0m     \u001b[39mif\u001b[39;00m no_header:\n\u001b[1;32m   2050\u001b[0m         \u001b[39m# deduce both vocab_size & vector_size from 1st pass over file\u001b[39;00m\n\u001b[1;32m   2051\u001b[0m         \u001b[39mif\u001b[39;00m binary:\n",
      "File \u001b[0;32m~/.local/lib/python3.8/site-packages/smart_open/smart_open_lib.py:177\u001b[0m, in \u001b[0;36mopen\u001b[0;34m(uri, mode, buffering, encoding, errors, newline, closefd, opener, compression, transport_params)\u001b[0m\n\u001b[1;32m    174\u001b[0m \u001b[39mif\u001b[39;00m transport_params \u001b[39mis\u001b[39;00m \u001b[39mNone\u001b[39;00m:\n\u001b[1;32m    175\u001b[0m     transport_params \u001b[39m=\u001b[39m {}\n\u001b[0;32m--> 177\u001b[0m fobj \u001b[39m=\u001b[39m _shortcut_open(\n\u001b[1;32m    178\u001b[0m     uri,\n\u001b[1;32m    179\u001b[0m     mode,\n\u001b[1;32m    180\u001b[0m     compression\u001b[39m=\u001b[39;49mcompression,\n\u001b[1;32m    181\u001b[0m     buffering\u001b[39m=\u001b[39;49mbuffering,\n\u001b[1;32m    182\u001b[0m     encoding\u001b[39m=\u001b[39;49mencoding,\n\u001b[1;32m    183\u001b[0m     errors\u001b[39m=\u001b[39;49merrors,\n\u001b[1;32m    184\u001b[0m     newline\u001b[39m=\u001b[39;49mnewline,\n\u001b[1;32m    185\u001b[0m )\n\u001b[1;32m    186\u001b[0m \u001b[39mif\u001b[39;00m fobj \u001b[39mis\u001b[39;00m \u001b[39mnot\u001b[39;00m \u001b[39mNone\u001b[39;00m:\n\u001b[1;32m    187\u001b[0m     \u001b[39mreturn\u001b[39;00m fobj\n",
      "File \u001b[0;32m~/.local/lib/python3.8/site-packages/smart_open/smart_open_lib.py:363\u001b[0m, in \u001b[0;36m_shortcut_open\u001b[0;34m(uri, mode, compression, buffering, encoding, errors, newline)\u001b[0m\n\u001b[1;32m    360\u001b[0m \u001b[39mif\u001b[39;00m errors \u001b[39mand\u001b[39;00m \u001b[39m'\u001b[39m\u001b[39mb\u001b[39m\u001b[39m'\u001b[39m \u001b[39mnot\u001b[39;00m \u001b[39min\u001b[39;00m mode:\n\u001b[1;32m    361\u001b[0m     open_kwargs[\u001b[39m'\u001b[39m\u001b[39merrors\u001b[39m\u001b[39m'\u001b[39m] \u001b[39m=\u001b[39m errors\n\u001b[0;32m--> 363\u001b[0m \u001b[39mreturn\u001b[39;00m _builtin_open(local_path, mode, buffering\u001b[39m=\u001b[39;49mbuffering, \u001b[39m*\u001b[39;49m\u001b[39m*\u001b[39;49mopen_kwargs)\n",
      "\u001b[0;31mFileNotFoundError\u001b[0m: [Errno 2] No such file or directory: ''"
     ]
    }
   ],
   "source": [
    "embeddings =gensim.models.KeyedVectors.load_word2vec_format('', binary=True)"
   ]
  },
  {
   "cell_type": "code",
   "execution_count": 9,
   "metadata": {},
   "outputs": [
    {
     "data": {
      "text/plain": [
       "169369"
      ]
     },
     "execution_count": 9,
     "metadata": {},
     "output_type": "execute_result"
    }
   ],
   "source": [
    "len(embeddings)"
   ]
  },
  {
   "cell_type": "code",
   "execution_count": 10,
   "metadata": {},
   "outputs": [
    {
     "data": {
      "text/plain": [
       "array([-1.4643554e-04,  7.7616365e-04,  1.7637402e-03,  4.1838732e-04,\n",
       "        2.4306671e-04,  3.1305784e-03, -2.9868840e-03, -2.1708186e-04,\n",
       "       -2.4128826e-04,  5.8124940e-04, -3.8336858e-04, -1.8569590e-03,\n",
       "       -2.4179993e-03,  1.2007842e-03,  1.3770173e-04, -8.2693546e-04,\n",
       "        1.9591486e-03, -1.8401890e-03, -3.3094730e-03, -3.3357185e-03,\n",
       "       -3.0496456e-03, -1.5301070e-03, -2.7098749e-03,  2.0985722e-03,\n",
       "        3.3956016e-03,  3.4067512e-03,  3.4139997e-03, -2.8369476e-03,\n",
       "        3.2122289e-03,  1.8206027e-03, -1.4810183e-04, -2.3382986e-03,\n",
       "        2.8373087e-03, -2.0767130e-03, -3.5602574e-05, -2.7569504e-03,\n",
       "        5.1450840e-04, -1.2621362e-03, -1.6351494e-03,  2.0543268e-04,\n",
       "       -3.1887803e-03, -1.0703772e-03,  2.9856960e-04, -3.7342130e-04,\n",
       "       -1.9210580e-03, -3.1662690e-03,  1.4889930e-03, -3.3283508e-03,\n",
       "        2.9592307e-03,  2.5027287e-03,  2.1396978e-03,  1.5033020e-04,\n",
       "       -1.7122147e-03, -2.6438820e-03,  1.8645214e-03,  2.3991237e-03,\n",
       "        1.2042571e-03,  9.8522480e-04, -2.0395450e-03,  2.1117511e-03,\n",
       "       -1.0881417e-03, -8.1867370e-04, -2.7352173e-03,  3.3896873e-04,\n",
       "       -3.1398754e-03,  1.7615908e-04, -1.7016119e-03,  1.5950699e-04,\n",
       "        2.9344265e-03,  3.2257813e-03, -1.6350056e-03,  1.0375688e-03,\n",
       "       -2.8396868e-03, -8.0850410e-04, -3.1601277e-03,  2.1081646e-03,\n",
       "        2.5865710e-03, -3.0946138e-04, -2.7960750e-03,  1.1550181e-03,\n",
       "        1.2065592e-03, -3.3993092e-03,  1.0863746e-03,  1.2300635e-03,\n",
       "        6.0948107e-04, -1.1903375e-03, -2.0755570e-03, -2.9378430e-03,\n",
       "       -1.9330058e-03,  1.0590887e-03, -2.8354290e-03,  1.0683805e-03,\n",
       "        2.4229037e-03,  2.7507400e-03,  1.0211635e-03,  3.3572621e-03,\n",
       "        2.4291696e-03, -1.1339748e-04,  2.5326577e-03,  5.3532247e-04,\n",
       "       -2.6723316e-03, -1.7193363e-03, -2.9499144e-03,  1.0297124e-03,\n",
       "       -1.0961058e-03,  1.9956030e-03,  9.0178020e-04, -1.0062719e-03,\n",
       "        1.2453736e-04, -1.6969530e-03,  2.1005403e-04,  1.6651304e-03,\n",
       "        1.6280843e-04, -2.1914835e-03, -2.0215823e-03,  1.3907709e-03,\n",
       "       -2.3021335e-03,  1.6076350e-03, -6.3479820e-04,  3.2495947e-03,\n",
       "       -1.4571181e-03, -1.0347316e-03,  2.0072798e-03, -1.8631110e-03,\n",
       "       -2.1432342e-03, -3.3429035e-03,  2.7710348e-03, -8.2098480e-04,\n",
       "       -1.2236461e-03,  2.1497142e-03, -9.9527290e-04,  2.1955628e-04,\n",
       "       -2.3216049e-03, -2.3634292e-03,  3.3624682e-03,  2.0846062e-04,\n",
       "        2.8736133e-04, -2.3628780e-04, -1.2212515e-06, -3.2361770e-03,\n",
       "       -1.3924547e-03,  3.1026080e-03,  3.1216855e-03, -2.4634318e-03,\n",
       "       -1.4605890e-03, -3.3011680e-03,  1.5750550e-03, -8.5000496e-04,\n",
       "       -2.2714545e-03, -2.1003631e-03,  2.0630860e-03,  9.2965000e-04,\n",
       "        3.2438400e-03,  2.7166046e-03, -1.2935830e-03, -2.6866498e-03,\n",
       "       -2.5518425e-04, -7.3888130e-04, -1.4417126e-03,  1.2984315e-03,\n",
       "       -6.7768980e-04,  1.8393911e-03,  1.3766967e-03,  6.7455820e-04,\n",
       "        1.4967463e-03,  4.2424427e-04,  1.5121751e-03,  2.6821880e-03,\n",
       "        1.2897787e-03, -1.4023673e-03, -1.3514088e-03,  1.6238653e-03,\n",
       "       -2.3992910e-03,  1.1277630e-03, -1.3203358e-03,  1.6407409e-03,\n",
       "       -2.2884062e-03,  5.6773087e-04, -1.4373091e-03, -2.2710352e-03,\n",
       "        3.2446600e-03, -9.7795230e-04, -7.0984070e-04,  1.9477230e-03,\n",
       "        2.6305234e-03,  2.3818702e-05, -3.0836866e-03, -1.6937157e-04,\n",
       "        1.5595480e-03, -3.0186080e-04,  5.3681110e-04,  1.1019754e-03,\n",
       "        2.4920101e-03, -1.6647341e-03, -3.8330184e-04, -2.5333252e-04,\n",
       "       -2.9329855e-03, -1.1396110e-03, -1.4763084e-03, -3.7179350e-04])"
      ]
     },
     "execution_count": 10,
     "metadata": {},
     "output_type": "execute_result"
    }
   ],
   "source": [
    "embeddings['king']"
   ]
  },
  {
   "cell_type": "code",
   "execution_count": 10,
   "metadata": {},
   "outputs": [],
   "source": [
    "def plot_top10_words(word, cbow_own):\n",
    "\n",
    "    def tsne_plot(results):\n",
    "        words = []\n",
    "        embeds = []\n",
    "\n",
    "        for res in results:\n",
    "            embeds.append(res[1])\n",
    "            words.append(res[0])\n",
    "        \n",
    "        tsne_model = TSNE(init='pca')\n",
    "        res_embeds = tsne_model.fit_transform(embeds)\n",
    "\n",
    "        x_axis_val = []\n",
    "        y_axis_val = []\n",
    "        for val in res_embeds:\n",
    "            x_axis_val.append(val[0])\n",
    "            y_axis_val.append(val[1])\n",
    "            \n",
    "        plt.figure(figsize=(10, 10)) \n",
    "        for i in range(len(x_axis_val)):\n",
    "            plt.scatter(x_axis_val[i],y_axis_val[i])\n",
    "            plt.annotate(words[i],\n",
    "                        xy=(x_axis_val[i],y_axis_val[i]),\n",
    "                        xytext=(5, 2),\n",
    "                        textcoords='offset points',\n",
    "                        ha='right',\n",
    "                        va='bottom')\n",
    "        plt.savefig(\"../figures/\"+word+\".png\")\n",
    "    \n",
    "    similar_words = cbow_own.most_similar(positive=[word], topn = 10)\n",
    "    res = {}\n",
    "    for i, embed in tqdm(enumerate(similar_words)):\n",
    "        res[embed[0]] = [embed[1], cbow_own[embed[0]]]\n",
    "\n",
    "\n",
    "    results = []\n",
    "    for t in sorted(res.items(), key=lambda item: item[1][0], reverse=True)[0:10]:\n",
    "        results.append([t[0], t[1][1]])\n",
    "\n",
    "    print('Word:-', word)\n",
    "    print('Words:-', end='\\t')\n",
    "    for res in results:\n",
    "        print(res[0], end=', ')\n",
    "    print()\n",
    "\n",
    "    tsne_plot(results)"
   ]
  },
  {
   "cell_type": "code",
   "execution_count": 13,
   "metadata": {},
   "outputs": [],
   "source": [
    "cbow_own = gensim.models.KeyedVectors.load_word2vec_format('../embeddings_350.txt', binary=False)\n"
   ]
  },
  {
   "cell_type": "code",
   "execution_count": 21,
   "metadata": {},
   "outputs": [
    {
     "name": "stderr",
     "output_type": "stream",
     "text": [
      "10it [00:00, 28886.39it/s]\n",
      "/home/soumodiptab/.local/lib/python3.8/site-packages/sklearn/manifold/_t_sne.py:790: FutureWarning: The default learning rate in TSNE will change from 200.0 to 'auto' in 1.2.\n",
      "  warnings.warn(\n",
      "/home/soumodiptab/.local/lib/python3.8/site-packages/sklearn/manifold/_t_sne.py:982: FutureWarning: The PCA initialization in TSNE will change to have the standard deviation of PC1 equal to 1e-4 in 1.2. This will ensure better convergence.\n",
      "  warnings.warn(\n"
     ]
    },
    {
     "name": "stdout",
     "output_type": "stream",
     "text": [
      "Word:- reviewed\n",
      "Words:-\tinfinifilm, stevens, intruders, sometimesis, rollover, espisito, lothed, lugers, unbeaten, oficer, \n"
     ]
    },
    {
     "data": {
      "image/png": "[encoded data removed]",
      "text/plain": [
       "<Figure size 720x720 with 1 Axes>"
      ]
     },
     "metadata": {
      "needs_background": "light"
     },
     "output_type": "display_data"
    }
   ],
   "source": [
    "plot_top10_words('reviewed', cbow_own)"
   ]
  }
 ],
 "metadata": {
  "kernelspec": {
   "display_name": "Python 3",
   "language": "python",
   "name": "python3"
  },
  "language_info": {
   "codemirror_mode": {
    "name": "ipython",
    "version": 3
   },
   "file_extension": ".py",
   "mimetype": "text/x-python",
   "name": "python",
   "nbconvert_exporter": "python",
   "pygments_lexer": "ipython3",
   "version": "3.8.10"
  },
  "orig_nbformat": 4
 },
 "nbformat": 4,
 "nbformat_minor": 2
}
